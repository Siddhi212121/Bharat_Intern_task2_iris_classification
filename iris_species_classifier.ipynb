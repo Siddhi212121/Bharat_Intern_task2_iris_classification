{
 "cells": [
  {
   "cell_type": "code",
   "execution_count": 52,
   "id": "9491bb14-9722-46e7-b0b4-c19449fd18ae",
   "metadata": {},
   "outputs": [],
   "source": [
    "#importing libraries\n",
    "import numpy as np\n",
    "import matplotlib.pyplot as plt\n",
    "import seaborn as sns\n",
    "import pandas as pd\n",
    "%matplotlib inline"
   ]
  },
  {
   "cell_type": "code",
   "execution_count": 53,
   "id": "283fc9ab-ee44-4651-8dc6-004909915b15",
   "metadata": {},
   "outputs": [
    {
     "data": {
      "text/html": [
       "<div>\n",
       "<style scoped>\n",
       "    .dataframe tbody tr th:only-of-type {\n",
       "        vertical-align: middle;\n",
       "    }\n",
       "\n",
       "    .dataframe tbody tr th {\n",
       "        vertical-align: top;\n",
       "    }\n",
       "\n",
       "    .dataframe thead th {\n",
       "        text-align: right;\n",
       "    }\n",
       "</style>\n",
       "<table border=\"1\" class=\"dataframe\">\n",
       "  <thead>\n",
       "    <tr style=\"text-align: right;\">\n",
       "      <th></th>\n",
       "      <th>sepal length</th>\n",
       "      <th>sepal width</th>\n",
       "      <th>petal length</th>\n",
       "      <th>petal width</th>\n",
       "      <th>Class_labels</th>\n",
       "    </tr>\n",
       "  </thead>\n",
       "  <tbody>\n",
       "    <tr>\n",
       "      <th>0</th>\n",
       "      <td>sepal_length</td>\n",
       "      <td>sepal_width</td>\n",
       "      <td>petal_length</td>\n",
       "      <td>petal_width</td>\n",
       "      <td>species</td>\n",
       "    </tr>\n",
       "    <tr>\n",
       "      <th>1</th>\n",
       "      <td>5.1</td>\n",
       "      <td>3.5</td>\n",
       "      <td>1.4</td>\n",
       "      <td>0.2</td>\n",
       "      <td>Iris-setosa</td>\n",
       "    </tr>\n",
       "    <tr>\n",
       "      <th>2</th>\n",
       "      <td>4.9</td>\n",
       "      <td>3</td>\n",
       "      <td>1.4</td>\n",
       "      <td>0.2</td>\n",
       "      <td>Iris-setosa</td>\n",
       "    </tr>\n",
       "    <tr>\n",
       "      <th>3</th>\n",
       "      <td>4.7</td>\n",
       "      <td>3.2</td>\n",
       "      <td>1.3</td>\n",
       "      <td>0.2</td>\n",
       "      <td>Iris-setosa</td>\n",
       "    </tr>\n",
       "    <tr>\n",
       "      <th>4</th>\n",
       "      <td>4.6</td>\n",
       "      <td>3.1</td>\n",
       "      <td>1.5</td>\n",
       "      <td>0.2</td>\n",
       "      <td>Iris-setosa</td>\n",
       "    </tr>\n",
       "  </tbody>\n",
       "</table>\n",
       "</div>"
      ],
      "text/plain": [
       "   sepal length  sepal width  petal length  petal width Class_labels\n",
       "0  sepal_length  sepal_width  petal_length  petal_width      species\n",
       "1           5.1          3.5           1.4          0.2  Iris-setosa\n",
       "2           4.9            3           1.4          0.2  Iris-setosa\n",
       "3           4.7          3.2           1.3          0.2  Iris-setosa\n",
       "4           4.6          3.1           1.5          0.2  Iris-setosa"
      ]
     },
     "execution_count": 53,
     "metadata": {},
     "output_type": "execute_result"
    }
   ],
   "source": [
    "columns = ['sepal length','sepal width','petal length','petal width','Class_labels']\n",
    "#load the data\n",
    "df = pd.read_csv('IRIS.csv', names=columns)\n",
    "df.head()"
   ]
  },
  {
   "cell_type": "code",
   "execution_count": 54,
   "id": "33c43b49-458f-4908-9ffe-6857ee064db1",
   "metadata": {},
   "outputs": [],
   "source": [
    "#deleting 0th row\n",
    "df = df.iloc[1:]\n"
   ]
  },
  {
   "cell_type": "code",
   "execution_count": 55,
   "id": "ef431029-bd6b-42f5-9873-b7a048c1aca6",
   "metadata": {},
   "outputs": [],
   "source": [
    "df = df.reset_index(drop=True)\n"
   ]
  },
  {
   "cell_type": "code",
   "execution_count": 56,
   "id": "26e3a0fa-214e-46aa-a1df-41928118673e",
   "metadata": {},
   "outputs": [
    {
     "data": {
      "text/html": [
       "<div>\n",
       "<style scoped>\n",
       "    .dataframe tbody tr th:only-of-type {\n",
       "        vertical-align: middle;\n",
       "    }\n",
       "\n",
       "    .dataframe tbody tr th {\n",
       "        vertical-align: top;\n",
       "    }\n",
       "\n",
       "    .dataframe thead th {\n",
       "        text-align: right;\n",
       "    }\n",
       "</style>\n",
       "<table border=\"1\" class=\"dataframe\">\n",
       "  <thead>\n",
       "    <tr style=\"text-align: right;\">\n",
       "      <th></th>\n",
       "      <th>sepal length</th>\n",
       "      <th>sepal width</th>\n",
       "      <th>petal length</th>\n",
       "      <th>petal width</th>\n",
       "      <th>Class_labels</th>\n",
       "    </tr>\n",
       "  </thead>\n",
       "  <tbody>\n",
       "    <tr>\n",
       "      <th>0</th>\n",
       "      <td>5.1</td>\n",
       "      <td>3.5</td>\n",
       "      <td>1.4</td>\n",
       "      <td>0.2</td>\n",
       "      <td>Iris-setosa</td>\n",
       "    </tr>\n",
       "    <tr>\n",
       "      <th>1</th>\n",
       "      <td>4.9</td>\n",
       "      <td>3</td>\n",
       "      <td>1.4</td>\n",
       "      <td>0.2</td>\n",
       "      <td>Iris-setosa</td>\n",
       "    </tr>\n",
       "    <tr>\n",
       "      <th>2</th>\n",
       "      <td>4.7</td>\n",
       "      <td>3.2</td>\n",
       "      <td>1.3</td>\n",
       "      <td>0.2</td>\n",
       "      <td>Iris-setosa</td>\n",
       "    </tr>\n",
       "    <tr>\n",
       "      <th>3</th>\n",
       "      <td>4.6</td>\n",
       "      <td>3.1</td>\n",
       "      <td>1.5</td>\n",
       "      <td>0.2</td>\n",
       "      <td>Iris-setosa</td>\n",
       "    </tr>\n",
       "    <tr>\n",
       "      <th>4</th>\n",
       "      <td>5</td>\n",
       "      <td>3.6</td>\n",
       "      <td>1.4</td>\n",
       "      <td>0.2</td>\n",
       "      <td>Iris-setosa</td>\n",
       "    </tr>\n",
       "  </tbody>\n",
       "</table>\n",
       "</div>"
      ],
      "text/plain": [
       "  sepal length sepal width petal length petal width Class_labels\n",
       "0          5.1         3.5          1.4         0.2  Iris-setosa\n",
       "1          4.9           3          1.4         0.2  Iris-setosa\n",
       "2          4.7         3.2          1.3         0.2  Iris-setosa\n",
       "3          4.6         3.1          1.5         0.2  Iris-setosa\n",
       "4            5         3.6          1.4         0.2  Iris-setosa"
      ]
     },
     "execution_count": 56,
     "metadata": {},
     "output_type": "execute_result"
    }
   ],
   "source": [
    "df.head()"
   ]
  },
  {
   "cell_type": "code",
   "execution_count": 57,
   "id": "b34583eb-85de-4941-8112-8261f2486238",
   "metadata": {},
   "outputs": [
    {
     "data": {
      "text/html": [
       "<div>\n",
       "<style scoped>\n",
       "    .dataframe tbody tr th:only-of-type {\n",
       "        vertical-align: middle;\n",
       "    }\n",
       "\n",
       "    .dataframe tbody tr th {\n",
       "        vertical-align: top;\n",
       "    }\n",
       "\n",
       "    .dataframe thead th {\n",
       "        text-align: right;\n",
       "    }\n",
       "</style>\n",
       "<table border=\"1\" class=\"dataframe\">\n",
       "  <thead>\n",
       "    <tr style=\"text-align: right;\">\n",
       "      <th></th>\n",
       "      <th>sepal length</th>\n",
       "      <th>sepal width</th>\n",
       "      <th>petal length</th>\n",
       "      <th>petal width</th>\n",
       "      <th>Class_labels</th>\n",
       "    </tr>\n",
       "  </thead>\n",
       "  <tbody>\n",
       "    <tr>\n",
       "      <th>count</th>\n",
       "      <td>150</td>\n",
       "      <td>150</td>\n",
       "      <td>150</td>\n",
       "      <td>150</td>\n",
       "      <td>150</td>\n",
       "    </tr>\n",
       "    <tr>\n",
       "      <th>unique</th>\n",
       "      <td>35</td>\n",
       "      <td>23</td>\n",
       "      <td>43</td>\n",
       "      <td>22</td>\n",
       "      <td>3</td>\n",
       "    </tr>\n",
       "    <tr>\n",
       "      <th>top</th>\n",
       "      <td>5</td>\n",
       "      <td>3</td>\n",
       "      <td>1.5</td>\n",
       "      <td>0.2</td>\n",
       "      <td>Iris-setosa</td>\n",
       "    </tr>\n",
       "    <tr>\n",
       "      <th>freq</th>\n",
       "      <td>10</td>\n",
       "      <td>26</td>\n",
       "      <td>14</td>\n",
       "      <td>28</td>\n",
       "      <td>50</td>\n",
       "    </tr>\n",
       "  </tbody>\n",
       "</table>\n",
       "</div>"
      ],
      "text/plain": [
       "       sepal length sepal width petal length petal width Class_labels\n",
       "count           150         150          150         150          150\n",
       "unique           35          23           43          22            3\n",
       "top               5           3          1.5         0.2  Iris-setosa\n",
       "freq             10          26           14          28           50"
      ]
     },
     "execution_count": 57,
     "metadata": {},
     "output_type": "execute_result"
    }
   ],
   "source": [
    "df.describe()"
   ]
  },
  {
   "cell_type": "code",
   "execution_count": 58,
   "id": "0bce6a25-ab57-49d5-bbd8-826559a2b707",
   "metadata": {},
   "outputs": [
    {
     "name": "stdout",
     "output_type": "stream",
     "text": [
      "<class 'pandas.core.frame.DataFrame'>\n",
      "RangeIndex: 150 entries, 0 to 149\n",
      "Data columns (total 5 columns):\n",
      " #   Column        Non-Null Count  Dtype \n",
      "---  ------        --------------  ----- \n",
      " 0   sepal length  150 non-null    object\n",
      " 1   sepal width   150 non-null    object\n",
      " 2   petal length  150 non-null    object\n",
      " 3   petal width   150 non-null    object\n",
      " 4   Class_labels  150 non-null    object\n",
      "dtypes: object(5)\n",
      "memory usage: 6.0+ KB\n"
     ]
    }
   ],
   "source": [
    "df.info()\n"
   ]
  },
  {
   "cell_type": "code",
   "execution_count": 59,
   "id": "a0e886af-9246-4ea7-b69f-e05369e427cb",
   "metadata": {},
   "outputs": [],
   "source": [
    "df = df.dropna()  # Remove rows with missing values\n"
   ]
  },
  {
   "cell_type": "code",
   "execution_count": 60,
   "id": "bb1421d9-8ebf-4c58-98d4-f3fa70448af9",
   "metadata": {},
   "outputs": [],
   "source": [
    "# scattering points\n",
    "colors = ['red','orange','blue']\n",
    "species = ['Iris-virginica','Iris-versicolor','Iris-setosa']"
   ]
  },
  {
   "cell_type": "code",
   "execution_count": 61,
   "id": "b4c7cf3d-60fb-431f-984a-2797c442ba4d",
   "metadata": {},
   "outputs": [
    {
     "data": {
      "text/plain": [
       "<matplotlib.legend.Legend at 0x187cd0371a0>"
      ]
     },
     "execution_count": 61,
     "metadata": {},
     "output_type": "execute_result"
    },
    {
     "data": {
      "image/png": "[encoded data removed]",
      "text/plain": [
       "<Figure size 640x480 with 1 Axes>"
      ]
     },
     "metadata": {},
     "output_type": "display_data"
    }
   ],
   "source": [
    "for i in range(3):\n",
    "    x=df[df['Class_labels']==species[i]]\n",
    "    plt.scatter(x['sepal length'],x['sepal width'], c=colors[i], label=species[i])\n",
    "plt.xlabel(\"sepal length\")\n",
    "plt.ylabel(\"sepal width\")\n",
    "plt.legend()"
   ]
  },
  {
   "cell_type": "code",
   "execution_count": 62,
   "id": "a6b20d41-6b85-443f-9a40-c9871f3107e5",
   "metadata": {},
   "outputs": [],
   "source": [
    "#SEPERATE FEATURES AND TARGET\n",
    "data=df.values\n",
    "X= data[:, 0:4]\n",
    "Y= data[:,4]\n"
   ]
  },
  {
   "cell_type": "code",
   "execution_count": 63,
   "id": "279a86f7-c717-45e9-9d01-7fe21f14564d",
   "metadata": {},
   "outputs": [],
   "source": [
    "# SPLITTING THE DATA TO TRAIN AND TEST DATASET\n",
    "from sklearn.model_selection import train_test_split\n",
    "X_train, X_test, Y_train, Y_test = train_test_split(X,Y,test_size=0.2)"
   ]
  },
  {
   "cell_type": "code",
   "execution_count": 64,
   "id": "ea137bb1-4d0c-4715-a657-fb6887ffdffc",
   "metadata": {},
   "outputs": [
    {
     "name": "stdout",
     "output_type": "stream",
     "text": [
      "[['7.7' '3.8' '6.7' '2.2']\n",
      " ['4.9' '2.5' '4.5' '1.7']\n",
      " ['5.5' '2.6' '4.4' '1.2']\n",
      " ['5.7' '2.8' '4.5' '1.3']\n",
      " ['7.1' '3' '5.9' '2.1']\n",
      " ['6.7' '3' '5' '1.7']\n",
      " ['5.8' '2.7' '3.9' '1.2']\n",
      " ['5.7' '3.8' '1.7' '0.3']\n",
      " ['4.6' '3.4' '1.4' '0.3']\n",
      " ['6.5' '3.2' '5.1' '2']\n",
      " ['5.5' '2.4' '3.8' '1.1']\n",
      " ['6' '2.7' '5.1' '1.6']\n",
      " ['6.7' '3.3' '5.7' '2.1']\n",
      " ['6.5' '3' '5.2' '2']\n",
      " ['4.4' '3' '1.3' '0.2']\n",
      " ['6.5' '2.8' '4.6' '1.5']\n",
      " ['6.3' '2.8' '5.1' '1.5']\n",
      " ['5.4' '3.4' '1.7' '0.2']\n",
      " ['5.9' '3' '5.1' '1.8']\n",
      " ['5.4' '3' '4.5' '1.5']\n",
      " ['5.1' '2.5' '3' '1.1']\n",
      " ['5.1' '3.7' '1.5' '0.4']\n",
      " ['5.6' '2.8' '4.9' '2']\n",
      " ['5.1' '3.5' '1.4' '0.2']\n",
      " ['6' '3.4' '4.5' '1.6']\n",
      " ['4.6' '3.2' '1.4' '0.2']\n",
      " ['6.4' '2.9' '4.3' '1.3']\n",
      " ['4.8' '3.4' '1.6' '0.2']\n",
      " ['6.8' '3.2' '5.9' '2.3']\n",
      " ['4.9' '3' '1.4' '0.2']\n",
      " ['6.1' '2.6' '5.6' '1.4']\n",
      " ['5.1' '3.3' '1.7' '0.5']\n",
      " ['4.5' '2.3' '1.3' '0.3']\n",
      " ['5.7' '2.6' '3.5' '1']\n",
      " ['6.9' '3.2' '5.7' '2.3']\n",
      " ['6.4' '3.1' '5.5' '1.8']\n",
      " ['6.9' '3.1' '5.4' '2.1']\n",
      " ['5.9' '3' '4.2' '1.5']\n",
      " ['6' '2.9' '4.5' '1.5']\n",
      " ['6.1' '3' '4.9' '1.8']\n",
      " ['7.2' '3.6' '6.1' '2.5']\n",
      " ['6.3' '2.5' '4.9' '1.5']\n",
      " ['6.7' '3.3' '5.7' '2.5']\n",
      " ['6.4' '3.2' '4.5' '1.5']\n",
      " ['5.6' '3' '4.5' '1.5']\n",
      " ['6.9' '3.1' '5.1' '2.3']\n",
      " ['6.3' '2.7' '4.9' '1.8']\n",
      " ['5' '3.4' '1.5' '0.2']\n",
      " ['5' '3.5' '1.6' '0.6']\n",
      " ['5.4' '3.9' '1.7' '0.4']\n",
      " ['6.1' '2.8' '4.7' '1.2']\n",
      " ['4.8' '3.4' '1.9' '0.2']\n",
      " ['5.5' '4.2' '1.4' '0.2']\n",
      " ['6.2' '2.9' '4.3' '1.3']\n",
      " ['5.9' '3.2' '4.8' '1.8']\n",
      " ['4.4' '3.2' '1.3' '0.2']\n",
      " ['6' '2.2' '4' '1']\n",
      " ['5.7' '4.4' '1.5' '0.4']\n",
      " ['4.7' '3.2' '1.3' '0.2']\n",
      " ['6.7' '2.5' '5.8' '1.8']\n",
      " ['5' '3.6' '1.4' '0.2']\n",
      " ['5.4' '3.9' '1.3' '0.4']\n",
      " ['6.2' '2.8' '4.8' '1.8']\n",
      " ['5.6' '2.7' '4.2' '1.3']\n",
      " ['6.1' '2.8' '4' '1.3']\n",
      " ['4.3' '3' '1.1' '0.1']\n",
      " ['5.1' '3.8' '1.6' '0.2']\n",
      " ['6.2' '3.4' '5.4' '2.3']\n",
      " ['7.2' '3.2' '6' '1.8']\n",
      " ['4.8' '3' '1.4' '0.1']\n",
      " ['6.1' '2.9' '4.7' '1.4']\n",
      " ['5' '2' '3.5' '1']\n",
      " ['4.7' '3.2' '1.6' '0.2']\n",
      " ['5.8' '2.7' '4.1' '1']\n",
      " ['4.4' '2.9' '1.4' '0.2']\n",
      " ['5.3' '3.7' '1.5' '0.2']\n",
      " ['5.2' '2.7' '3.9' '1.4']\n",
      " ['5.7' '2.8' '4.1' '1.3']\n",
      " ['5.8' '2.7' '5.1' '1.9']\n",
      " ['6' '2.2' '5' '1.5']\n",
      " ['5.1' '3.8' '1.9' '0.4']\n",
      " ['5.5' '2.5' '4' '1.3']\n",
      " ['5.5' '3.5' '1.3' '0.2']\n",
      " ['4.8' '3' '1.4' '0.3']\n",
      " ['6.5' '3' '5.8' '2.2']\n",
      " ['5.6' '2.9' '3.6' '1.3']\n",
      " ['5' '3.2' '1.2' '0.2']\n",
      " ['5.7' '2.5' '5' '2']\n",
      " ['6.8' '3' '5.5' '2.1']\n",
      " ['6.3' '2.5' '5' '1.9']\n",
      " ['4.6' '3.1' '1.5' '0.2']\n",
      " ['5.6' '2.5' '3.9' '1.1']\n",
      " ['7.7' '3' '6.1' '2.3']\n",
      " ['7.3' '2.9' '6.3' '1.8']\n",
      " ['5' '3.5' '1.3' '0.3']\n",
      " ['6' '3' '4.8' '1.8']\n",
      " ['6.3' '3.3' '4.7' '1.6']\n",
      " ['5.4' '3.7' '1.5' '0.2']\n",
      " ['5.6' '3' '4.1' '1.3']\n",
      " ['6.1' '3' '4.6' '1.4']\n",
      " ['5.5' '2.3' '4' '1.3']\n",
      " ['5.1' '3.5' '1.4' '0.3']\n",
      " ['6.7' '3.1' '4.7' '1.5']\n",
      " ['6.7' '3' '5.2' '2.3']\n",
      " ['5.1' '3.8' '1.5' '0.3']\n",
      " ['5' '2.3' '3.3' '1']\n",
      " ['6.2' '2.2' '4.5' '1.5']\n",
      " ['4.9' '3.1' '1.5' '0.1']\n",
      " ['6.7' '3.1' '5.6' '2.4']\n",
      " ['6.4' '3.2' '5.3' '2.3']\n",
      " ['5.1' '3.4' '1.5' '0.2']\n",
      " ['5.8' '2.7' '5.1' '1.9']\n",
      " ['5.7' '3' '4.2' '1.2']\n",
      " ['6.5' '3' '5.5' '1.8']\n",
      " ['5.2' '3.4' '1.4' '0.2']\n",
      " ['6.7' '3.1' '4.4' '1.4']\n",
      " ['7.4' '2.8' '6.1' '1.9']\n",
      " ['5.2' '4.1' '1.5' '0.1']\n",
      " ['5.8' '2.8' '5.1' '2.4']\n",
      " ['4.9' '2.4' '3.3' '1']]\n"
     ]
    }
   ],
   "source": [
    "print(X_train)"
   ]
  },
  {
   "cell_type": "code",
   "execution_count": 65,
   "id": "aec59226-e6b5-4247-8e9a-93645958fbc0",
   "metadata": {},
   "outputs": [
    {
     "name": "stdout",
     "output_type": "stream",
     "text": [
      "[['5.7' '2.9' '4.2' '1.3']\n",
      " ['6.8' '2.8' '4.8' '1.4']\n",
      " ['5' '3.3' '1.4' '0.2']\n",
      " ['6.3' '3.4' '5.6' '2.4']\n",
      " ['7.9' '3.8' '6.4' '2']\n",
      " ['7.2' '3' '5.8' '1.6']\n",
      " ['5.4' '3.4' '1.5' '0.4']\n",
      " ['4.9' '3.1' '1.5' '0.1']\n",
      " ['7.7' '2.8' '6.7' '2']\n",
      " ['6.3' '2.9' '5.6' '1.8']\n",
      " ['6.3' '2.3' '4.4' '1.3']\n",
      " ['6.3' '3.3' '6' '2.5']\n",
      " ['6.4' '2.8' '5.6' '2.1']\n",
      " ['5.2' '3.5' '1.5' '0.2']\n",
      " ['5.5' '2.4' '3.7' '1']\n",
      " ['4.6' '3.6' '1' '0.2']\n",
      " ['7.7' '2.6' '6.9' '2.3']\n",
      " ['6.4' '2.7' '5.3' '1.9']\n",
      " ['6.6' '3' '4.4' '1.4']\n",
      " ['5' '3' '1.6' '0.2']\n",
      " ['6.6' '2.9' '4.6' '1.3']\n",
      " ['6.9' '3.1' '4.9' '1.5']\n",
      " ['7.6' '3' '6.6' '2.1']\n",
      " ['4.9' '3.1' '1.5' '0.1']\n",
      " ['5' '3.4' '1.6' '0.4']\n",
      " ['5.8' '4' '1.2' '0.2']\n",
      " ['6.4' '2.8' '5.6' '2.2']\n",
      " ['5.8' '2.6' '4' '1.2']\n",
      " ['7' '3.2' '4.7' '1.4']\n",
      " ['4.8' '3.1' '1.6' '0.2']]\n"
     ]
    }
   ],
   "source": [
    "print(X_test)"
   ]
  },
  {
   "cell_type": "code",
   "execution_count": 71,
   "id": "2da75b4b-bbd6-45b1-b5bc-a35951b5cf3e",
   "metadata": {},
   "outputs": [
    {
     "name": "stderr",
     "output_type": "stream",
     "text": [
      "C:\\Users\\siddh\\AppData\\Local\\Programs\\Python\\Python312\\Lib\\site-packages\\sklearn\\linear_model\\_logistic.py:460: ConvergenceWarning: lbfgs failed to converge (status=1):\n",
      "STOP: TOTAL NO. of ITERATIONS REACHED LIMIT.\n",
      "\n",
      "Increase the number of iterations (max_iter) or scale the data as shown in:\n",
      "    https://scikit-learn.org/stable/modules/preprocessing.html\n",
      "Please also refer to the documentation for alternative solver options:\n",
      "    https://scikit-learn.org/stable/modules/linear_model.html#logistic-regression\n",
      "  n_iter_i = _check_optimize_result(\n"
     ]
    },
    {
     "data": {
      "text/html": [
       "<style>#sk-container-id-4 {color: black;}#sk-container-id-4 pre{padding: 0;}#sk-container-id-4 div.sk-toggleable {background-color: white;}#sk-container-id-4 label.sk-toggleable__label {cursor: pointer;display: block;width: 100%;margin-bottom: 0;padding: 0.3em;box-sizing: border-box;text-align: center;}#sk-container-id-4 label.sk-toggleable__label-arrow:before {content: \"▸\";float: left;margin-right: 0.25em;color: #696969;}#sk-container-id-4 label.sk-toggleable__label-arrow:hover:before {color: black;}#sk-container-id-4 div.sk-estimator:hover label.sk-toggleable__label-arrow:before {color: black;}#sk-container-id-4 div.sk-toggleable__content {max-height: 0;max-width: 0;overflow: hidden;text-align: left;background-color: #f0f8ff;}#sk-container-id-4 div.sk-toggleable__content pre {margin: 0.2em;color: black;border-radius: 0.25em;background-color: #f0f8ff;}#sk-container-id-4 input.sk-toggleable__control:checked~div.sk-toggleable__content {max-height: 200px;max-width: 100%;overflow: auto;}#sk-container-id-4 input.sk-toggleable__control:checked~label.sk-toggleable__label-arrow:before {content: \"▾\";}#sk-container-id-4 div.sk-estimator input.sk-toggleable__control:checked~label.sk-toggleable__label {background-color: #d4ebff;}#sk-container-id-4 div.sk-label input.sk-toggleable__control:checked~label.sk-toggleable__label {background-color: #d4ebff;}#sk-container-id-4 input.sk-hidden--visually {border: 0;clip: rect(1px 1px 1px 1px);clip: rect(1px, 1px, 1px, 1px);height: 1px;margin: -1px;overflow: hidden;padding: 0;position: absolute;width: 1px;}#sk-container-id-4 div.sk-estimator {font-family: monospace;background-color: #f0f8ff;border: 1px dotted black;border-radius: 0.25em;box-sizing: border-box;margin-bottom: 0.5em;}#sk-container-id-4 div.sk-estimator:hover {background-color: #d4ebff;}#sk-container-id-4 div.sk-parallel-item::after {content: \"\";width: 100%;border-bottom: 1px solid gray;flex-grow: 1;}#sk-container-id-4 div.sk-label:hover label.sk-toggleable__label {background-color: #d4ebff;}#sk-container-id-4 div.sk-serial::before {content: \"\";position: absolute;border-left: 1px solid gray;box-sizing: border-box;top: 0;bottom: 0;left: 50%;z-index: 0;}#sk-container-id-4 div.sk-serial {display: flex;flex-direction: column;align-items: center;background-color: white;padding-right: 0.2em;padding-left: 0.2em;position: relative;}#sk-container-id-4 div.sk-item {position: relative;z-index: 1;}#sk-container-id-4 div.sk-parallel {display: flex;align-items: stretch;justify-content: center;background-color: white;position: relative;}#sk-container-id-4 div.sk-item::before, #sk-container-id-4 div.sk-parallel-item::before {content: \"\";position: absolute;border-left: 1px solid gray;box-sizing: border-box;top: 0;bottom: 0;left: 50%;z-index: -1;}#sk-container-id-4 div.sk-parallel-item {display: flex;flex-direction: column;z-index: 1;position: relative;background-color: white;}#sk-container-id-4 div.sk-parallel-item:first-child::after {align-self: flex-end;width: 50%;}#sk-container-id-4 div.sk-parallel-item:last-child::after {align-self: flex-start;width: 50%;}#sk-container-id-4 div.sk-parallel-item:only-child::after {width: 0;}#sk-container-id-4 div.sk-dashed-wrapped {border: 1px dashed gray;margin: 0 0.4em 0.5em 0.4em;box-sizing: border-box;padding-bottom: 0.4em;background-color: white;}#sk-container-id-4 div.sk-label label {font-family: monospace;font-weight: bold;display: inline-block;line-height: 1.2em;}#sk-container-id-4 div.sk-label-container {text-align: center;}#sk-container-id-4 div.sk-container {/* jupyter's `normalize.less` sets `[hidden] { display: none; }` but bootstrap.min.css set `[hidden] { display: none !important; }` so we also need the `!important` here to be able to override the default hidden behavior on the sphinx rendered scikit-learn.org. See: https://github.com/scikit-learn/scikit-learn/issues/21755 */display: inline-block !important;position: relative;}#sk-container-id-4 div.sk-text-repr-fallback {display: none;}</style><div id=\"sk-container-id-4\" class=\"sk-top-container\"><div class=\"sk-text-repr-fallback\"><pre>LogisticRegression()</pre><b>In a Jupyter environment, please rerun this cell to show the HTML representation or trust the notebook. <br />On GitHub, the HTML representation is unable to render, please try loading this page with nbviewer.org.</b></div><div class=\"sk-container\" hidden><div class=\"sk-item\"><div class=\"sk-estimator sk-toggleable\"><input class=\"sk-toggleable__control sk-hidden--visually\" id=\"sk-estimator-id-4\" type=\"checkbox\" checked><label for=\"sk-estimator-id-4\" class=\"sk-toggleable__label sk-toggleable__label-arrow\">LogisticRegression</label><div class=\"sk-toggleable__content\"><pre>LogisticRegression()</pre></div></div></div></div></div>"
      ],
      "text/plain": [
       "LogisticRegression()"
      ]
     },
     "execution_count": 71,
     "metadata": {},
     "output_type": "execute_result"
    }
   ],
   "source": [
    "#using logicstic regression algorithm\n",
    "from sklearn.linear_model import LogisticRegression\n",
    "model_LR=LogisticRegression()\n",
    "model_LR.fit(X_train, Y_train)"
   ]
  },
  {
   "cell_type": "code",
   "execution_count": 68,
   "id": "3e76ddcd-629f-47b0-b809-8866ad98f0e7",
   "metadata": {},
   "outputs": [],
   "source": [
    "prediction1 = model_LR.predict(X_test)"
   ]
  },
  {
   "cell_type": "code",
   "execution_count": 70,
   "id": "681c25da-e59d-4f8b-9e63-7b9b2c2b39e2",
   "metadata": {},
   "outputs": [
    {
     "name": "stdout",
     "output_type": "stream",
     "text": [
      "100.0\n"
     ]
    }
   ],
   "source": [
    "from sklearn.metrics import accuracy_score\n",
    "print(accuracy_score(Y_test,prediction1)*100)"
   ]
  },
  {
   "cell_type": "code",
   "execution_count": null,
   "id": "73802423-6a76-4153-b2e2-39146eb05956",
   "metadata": {},
   "outputs": [],
   "source": []
  }
 ],
 "metadata": {
  "kernelspec": {
   "display_name": "Python 3 (ipykernel)",
   "language": "python",
   "name": "python3"
  },
  "language_info": {
   "codemirror_mode": {
    "name": "ipython",
    "version": 3
   },
   "file_extension": ".py",
   "mimetype": "text/x-python",
   "name": "python",
   "nbconvert_exporter": "python",
   "pygments_lexer": "ipython3",
   "version": "3.12.1"
  }
 },
 "nbformat": 4,
 "nbformat_minor": 5
}
